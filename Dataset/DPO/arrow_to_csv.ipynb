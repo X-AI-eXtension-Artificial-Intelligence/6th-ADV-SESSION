{
 "cells": [
  {
   "cell_type": "code",
   "execution_count": 1,
   "metadata": {},
   "outputs": [],
   "source": [
    "# pip install pyarrow  (한 번만)\n",
    "import pandas as pd\n",
    "import pyarrow as pa\n",
    "import pyarrow.ipc as ipc\n",
    "\n",
    "path1 = \"egen_sft_dataset/data-00000-of-00001.arrow\"\n",
    "\n",
    "with open(path1, \"rb\") as f:\n",
    "    reader = ipc.open_stream(f)\n",
    "    batches = list(reader)\n",
    "table = pa.Table.from_batches(batches)\n",
    "df = table.to_pandas()\n",
    "\n",
    "egen = df[['prompt']].head(1500)"
   ]
  },
  {
   "cell_type": "code",
   "execution_count": 2,
   "metadata": {},
   "outputs": [],
   "source": [
    "path2 = \"teto_sft_dataset/data-00000-of-00001.arrow\"\n",
    "\n",
    "with open(path2, \"rb\") as f:\n",
    "    reader = ipc.open_stream(f)\n",
    "    batches = list(reader)\n",
    "table = pa.Table.from_batches(batches)\n",
    "df = table.to_pandas()\n",
    "\n",
    "teto = df[['prompt']].head(1500)"
   ]
  },
  {
   "cell_type": "code",
   "execution_count": null,
   "metadata": {},
   "outputs": [],
   "source": [
    "egen.to_csv(\"egen_infer.csv\", index=False)\n",
    "teto.to_csv(\"teto_infer.csv\", index=False)"
   ]
  }
 ],
 "metadata": {
  "kernelspec": {
   "display_name": "Python 3",
   "language": "python",
   "name": "python3"
  },
  "language_info": {
   "codemirror_mode": {
    "name": "ipython",
    "version": 3
   },
   "file_extension": ".py",
   "mimetype": "text/x-python",
   "name": "python",
   "nbconvert_exporter": "python",
   "pygments_lexer": "ipython3",
   "version": "3.10.12"
  },
  "orig_nbformat": 4
 },
 "nbformat": 4,
 "nbformat_minor": 2
}
